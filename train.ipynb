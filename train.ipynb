{
  "nbformat": 4,
  "nbformat_minor": 0,
  "metadata": {
    "colab": {
      "provenance": []
    },
    "kernelspec": {
      "name": "python3",
      "display_name": "Python 3"
    },
    "language_info": {
      "name": "python"
    },
    "accelerator": "GPU",
    "gpuClass": "standard"
  },
  "cells": [
    {
      "cell_type": "code",
      "execution_count": 2,
      "metadata": {
        "colab": {
          "base_uri": "https://localhost:8080/"
        },
        "id": "k4TMYGtFWWYS",
        "outputId": "222b5572-151f-4302-e48e-cb7c73ad695d"
      },
      "outputs": [
        {
          "output_type": "stream",
          "name": "stdout",
          "text": [
            "Fri Apr 14 20:47:45 2023       \n",
            "+-----------------------------------------------------------------------------+\n",
            "| NVIDIA-SMI 525.85.12    Driver Version: 525.85.12    CUDA Version: 12.0     |\n",
            "|-------------------------------+----------------------+----------------------+\n",
            "| GPU  Name        Persistence-M| Bus-Id        Disp.A | Volatile Uncorr. ECC |\n",
            "| Fan  Temp  Perf  Pwr:Usage/Cap|         Memory-Usage | GPU-Util  Compute M. |\n",
            "|                               |                      |               MIG M. |\n",
            "|===============================+======================+======================|\n",
            "|   0  Tesla T4            Off  | 00000000:00:04.0 Off |                    0 |\n",
            "| N/A   50C    P8     9W /  70W |      0MiB / 15360MiB |      0%      Default |\n",
            "|                               |                      |                  N/A |\n",
            "+-------------------------------+----------------------+----------------------+\n",
            "                                                                               \n",
            "+-----------------------------------------------------------------------------+\n",
            "| Processes:                                                                  |\n",
            "|  GPU   GI   CI        PID   Type   Process name                  GPU Memory |\n",
            "|        ID   ID                                                   Usage      |\n",
            "|=============================================================================|\n",
            "|  No running processes found                                                 |\n",
            "+-----------------------------------------------------------------------------+\n"
          ]
        }
      ],
      "source": [
        "!nvidia-smi"
      ]
    },
    {
      "cell_type": "code",
      "execution_count": 3,
      "metadata": {
        "id": "TEb5Z5M_Qs34"
      },
      "outputs": [],
      "source": [
        "import torch\n",
        "import torch.nn as nn\n",
        "import torch.nn.functional as F\n",
        "import torch.optim as optim\n",
        "import torch.backends.cudnn as cudnn\n",
        "from torchsummary import summary\n",
        "\n",
        "import torchvision\n",
        "import torchvision.transforms as transforms\n",
        "\n",
        "import argparse\n",
        "\n",
        "from tqdm import tqdm\n",
        "import time"
      ]
    },
    {
      "cell_type": "code",
      "execution_count": 43,
      "metadata": {
        "id": "Pg3txkFlYnhe"
      },
      "outputs": [],
      "source": [
        "class ResnetBlock(nn.Module):\n",
        "    expansion = 1\n",
        "\n",
        "    def __init__(self, in_, out, stride=1):\n",
        "        super(ResnetBlock, self).__init__()\n",
        "        self.conv1 = nn.Conv2d(\n",
        "            in_, out, kernel_size=3, stride=stride, padding=1, bias=False)\n",
        "        self.bn1 = nn.BatchNorm2d(out)\n",
        "        self.conv2 = nn.Conv2d(out, out, kernel_size=3,\n",
        "                               stride=1, padding=1, bias=False)\n",
        "        self.bn2 = nn.BatchNorm2d(out)\n",
        "\n",
        "        self.shortcut = nn.Sequential()\n",
        "        if stride != 1 or in_ != self.expansion*out:\n",
        "            self.shortcut = nn.Sequential(\n",
        "                nn.Conv2d(in_, self.expansion*out,\n",
        "                          kernel_size=1, stride=stride, bias=False),\n",
        "                nn.BatchNorm2d(self.expansion*out)\n",
        "            )\n",
        "\n",
        "    def forward(self, x):\n",
        "        out = F.gelu(self.bn1(self.conv1(x)))\n",
        "        out = self.bn2(self.conv2(out))\n",
        "        out += self.shortcut(x)\n",
        "        out = F.relu(out)\n",
        "        return out\n",
        "\n",
        "class Resnet(nn.Module):\n",
        "    def __init__(self, num_classes=10):\n",
        "        super(Resnet, self).__init__()\n",
        "        block, num_blocks = ResnetBlock, [2, 2, 2, 2]\n",
        "        self.in_ = 64\n",
        "\n",
        "        self.conv1 = nn.Conv2d(3, 64, kernel_size=3,\n",
        "                               stride=1, padding=1, bias=False)\n",
        "        self.bn1 = nn.BatchNorm2d(64)\n",
        "        self.layer1 = self._make_layer(block, 64, num_blocks[0], stride=1)\n",
        "        self.layer2 = self._make_layer(block, 128, num_blocks[1], stride=2)\n",
        "        self.layer3 = self._make_layer(block, 194, num_blocks[2], stride=2)\n",
        "        self.layer4 = self._make_layer(block, 256, num_blocks[3], stride=2)\n",
        "        self.linear = nn.Linear(256*block.expansion, num_classes)\n",
        "\n",
        "    def _make_layer(self, block, out, num_blocks, stride):\n",
        "        strides = [stride] + [1]*(num_blocks-1)\n",
        "        layers = []\n",
        "        for stride in strides:\n",
        "            layers.append(block(self.in_, out, stride))\n",
        "            self.in_ = out * block.expansion\n",
        "        return nn.Sequential(*layers)\n",
        "\n",
        "    def forward(self, x):\n",
        "        out = F.gelu(self.bn1(self.conv1(x)))\n",
        "        out = self.layer1(out)\n",
        "        out = self.layer2(out)\n",
        "        out = self.layer3(out)\n",
        "        out = self.layer4(out)\n",
        "        out = F.avg_pool2d(out, 4)\n",
        "        out = out.view(out.size(0), -1)\n",
        "        out = self.linear(out)\n",
        "        return out"
      ]
    },
    {
      "cell_type": "code",
      "source": [
        "model = Resnet().to('cuda')\n",
        "summary(model,(3,32,32))"
      ],
      "metadata": {
        "colab": {
          "base_uri": "https://localhost:8080/"
        },
        "id": "Ns-GYbf03H1L",
        "outputId": "b866d005-fb33-4211-8fa2-9729fb1b7856"
      },
      "execution_count": 44,
      "outputs": [
        {
          "output_type": "stream",
          "name": "stdout",
          "text": [
            "----------------------------------------------------------------\n",
            "        Layer (type)               Output Shape         Param #\n",
            "================================================================\n",
            "            Conv2d-1           [-1, 64, 32, 32]           1,728\n",
            "       BatchNorm2d-2           [-1, 64, 32, 32]             128\n",
            "            Conv2d-3           [-1, 64, 32, 32]          36,864\n",
            "       BatchNorm2d-4           [-1, 64, 32, 32]             128\n",
            "            Conv2d-5           [-1, 64, 32, 32]          36,864\n",
            "       BatchNorm2d-6           [-1, 64, 32, 32]             128\n",
            "       ResnetBlock-7           [-1, 64, 32, 32]               0\n",
            "            Conv2d-8           [-1, 64, 32, 32]          36,864\n",
            "       BatchNorm2d-9           [-1, 64, 32, 32]             128\n",
            "           Conv2d-10           [-1, 64, 32, 32]          36,864\n",
            "      BatchNorm2d-11           [-1, 64, 32, 32]             128\n",
            "      ResnetBlock-12           [-1, 64, 32, 32]               0\n",
            "           Conv2d-13          [-1, 128, 16, 16]          73,728\n",
            "      BatchNorm2d-14          [-1, 128, 16, 16]             256\n",
            "           Conv2d-15          [-1, 128, 16, 16]         147,456\n",
            "      BatchNorm2d-16          [-1, 128, 16, 16]             256\n",
            "           Conv2d-17          [-1, 128, 16, 16]           8,192\n",
            "      BatchNorm2d-18          [-1, 128, 16, 16]             256\n",
            "      ResnetBlock-19          [-1, 128, 16, 16]               0\n",
            "           Conv2d-20          [-1, 128, 16, 16]         147,456\n",
            "      BatchNorm2d-21          [-1, 128, 16, 16]             256\n",
            "           Conv2d-22          [-1, 128, 16, 16]         147,456\n",
            "      BatchNorm2d-23          [-1, 128, 16, 16]             256\n",
            "      ResnetBlock-24          [-1, 128, 16, 16]               0\n",
            "           Conv2d-25            [-1, 194, 8, 8]         223,488\n",
            "      BatchNorm2d-26            [-1, 194, 8, 8]             388\n",
            "           Conv2d-27            [-1, 194, 8, 8]         338,724\n",
            "      BatchNorm2d-28            [-1, 194, 8, 8]             388\n",
            "           Conv2d-29            [-1, 194, 8, 8]          24,832\n",
            "      BatchNorm2d-30            [-1, 194, 8, 8]             388\n",
            "      ResnetBlock-31            [-1, 194, 8, 8]               0\n",
            "           Conv2d-32            [-1, 194, 8, 8]         338,724\n",
            "      BatchNorm2d-33            [-1, 194, 8, 8]             388\n",
            "           Conv2d-34            [-1, 194, 8, 8]         338,724\n",
            "      BatchNorm2d-35            [-1, 194, 8, 8]             388\n",
            "      ResnetBlock-36            [-1, 194, 8, 8]               0\n",
            "           Conv2d-37            [-1, 256, 4, 4]         446,976\n",
            "      BatchNorm2d-38            [-1, 256, 4, 4]             512\n",
            "           Conv2d-39            [-1, 256, 4, 4]         589,824\n",
            "      BatchNorm2d-40            [-1, 256, 4, 4]             512\n",
            "           Conv2d-41            [-1, 256, 4, 4]          49,664\n",
            "      BatchNorm2d-42            [-1, 256, 4, 4]             512\n",
            "      ResnetBlock-43            [-1, 256, 4, 4]               0\n",
            "           Conv2d-44            [-1, 256, 4, 4]         589,824\n",
            "      BatchNorm2d-45            [-1, 256, 4, 4]             512\n",
            "           Conv2d-46            [-1, 256, 4, 4]         589,824\n",
            "      BatchNorm2d-47            [-1, 256, 4, 4]             512\n",
            "      ResnetBlock-48            [-1, 256, 4, 4]               0\n",
            "           Linear-49                   [-1, 10]           2,570\n",
            "================================================================\n",
            "Total params: 4,213,066\n",
            "Trainable params: 4,213,066\n",
            "Non-trainable params: 0\n",
            "----------------------------------------------------------------\n",
            "Input size (MB): 0.01\n",
            "Forward/backward pass size (MB): 10.51\n",
            "Params size (MB): 16.07\n",
            "Estimated Total Size (MB): 26.60\n",
            "----------------------------------------------------------------\n"
          ]
        }
      ]
    },
    {
      "cell_type": "code",
      "execution_count": 62,
      "metadata": {
        "id": "K0i_rx7njCK7"
      },
      "outputs": [],
      "source": [
        "class Trainer:\n",
        "    def __init__(self,opt = 'sgd',epochs = 10,learning_rate = 0.01):\n",
        "        self.classes = ('plane', 'car', 'bird', 'cat', 'deer',\n",
        "           'dog', 'frog', 'horse', 'ship', 'truck')\n",
        "        self.device = 'cuda' if torch.cuda.is_available() else 'cpu'\n",
        "        self.model = Resnet().to(self.device)\n",
        "        self.criterion = nn.CrossEntropyLoss()\n",
        "        self.epochs = epochs\n",
        "        self.opt = opt\n",
        "\n",
        "        if opt == 'sgd':\n",
        "            self.optimizer = optim.SGD(self.model.parameters(), lr=learning_rate,\n",
        "                                momentum=0.9, weight_decay=5e-4)\n",
        "        elif opt == 'adam':\n",
        "            self.optimizer = optim.Adam(self.model.parameters(), lr=learning_rate,\n",
        "                                weight_decay=5e-4)\n",
        "        elif opt == 'adadelta':\n",
        "            self.optimizer = optim.Adadelta(self.model.parameters(), lr=learning_rate,\n",
        "                                weight_decay=5e-4)\n",
        "        self.scheduler = optim.lr_scheduler.OneCycleLR(self.optimizer,max_lr=learning_rate,total_steps=self.epochs)\n",
        "    \n",
        "    def load_data(self):\n",
        "        print('\\n\\nLoading Dataset\\n\\n')\n",
        "        transform_train = transforms.Compose([\n",
        "            transforms.RandomCrop(32, padding=4),\n",
        "            transforms.RandomHorizontalFlip(0.5),\n",
        "            transforms.ToTensor(),\n",
        "            transforms.Normalize((0.4914, 0.4822, 0.4465), (0.2023, 0.1994, 0.2010)),\n",
        "        ])\n",
        "\n",
        "        transform_test = transforms.Compose([\n",
        "            transforms.ToTensor(),\n",
        "            transforms.Normalize((0.4914, 0.4822, 0.4465), (0.2023, 0.1994, 0.2010)),\n",
        "        ])\n",
        "\n",
        "        trainset = torchvision.datasets.CIFAR10(\n",
        "            root='./data', train=True, download=True, transform=transform_train)\n",
        "        start = time.perf_counter()\n",
        "        self.trainloader = torch.utils.data.DataLoader(\n",
        "            trainset, batch_size=32, shuffle=True)\n",
        "        # print(time.perf_counter() - start)\n",
        "\n",
        "        testset = torchvision.datasets.CIFAR10(\n",
        "            root='./data', train=False, download=True, transform=transform_test)\n",
        "        self.testloader = torch.utils.data.DataLoader(\n",
        "            testset, batch_size=32, shuffle=False)\n",
        "            \n",
        "    def train(self):\n",
        "        self.metrics = {\n",
        "            'train': {\n",
        "                'acc': [],\n",
        "                'loss': []\n",
        "            },\n",
        "            'test': {\n",
        "                'acc': [],\n",
        "                'loss': []\n",
        "            }\n",
        "        }\n",
        "        print('\\n\\nTraining\\n\\n')\n",
        "\n",
        "        self.model.train()\n",
        "        start = time.perf_counter()\n",
        "        temp = 0\n",
        "        min_valid_loss = 1000\n",
        "        for ep in range(self.epochs):\n",
        "            with tqdm(enumerate(self.trainloader),total=len(self.trainloader),desc = 'Epoch {}/{}'.format(ep+1,self.epochs),position = 0,leave=True) as tep:\n",
        "                train_loss = 0\n",
        "                # train_acc = 0\n",
        "                correct = 0\n",
        "                total = 0\n",
        "\n",
        "                self.model.train()\n",
        "\n",
        "                for batch_idx, (inputs, targets) in tep:\n",
        "                    inputs, targets = inputs.to(self.device), targets.to(self.device)\n",
        "                    self.optimizer.zero_grad()\n",
        "                    outputs = self.model(inputs)\n",
        "                    loss = self.criterion(outputs, targets)\n",
        "                    loss.backward()\n",
        "                    self.optimizer.step()\n",
        "\n",
        "                    train_loss += loss.item()\n",
        "                    _, predicted = outputs.max(1)\n",
        "                    total += targets.size(0)\n",
        "                    correct += predicted.eq(targets).sum().item()\n",
        "                    tep.set_postfix_str('Train: loss={:.4f}, acc={:.4f}'.format(train_loss/(batch_idx+1),correct/total))\n",
        "                \n",
        "                self.model.eval()\n",
        "\n",
        "                test_loss = 0\n",
        "                test_acc = 0\n",
        "                \n",
        "                test_correct = 0\n",
        "                test_total = 0\n",
        "    \n",
        "                with torch.no_grad():\n",
        "                    for (inputs, targets) in self.testloader:\n",
        "                        inputs = inputs.to(self.device)\n",
        "                        targets = targets.to(self.device)\n",
        "                        outputs = self.model(inputs)\n",
        "                        loss = self.criterion(outputs, targets)\n",
        "                        _, predicted = outputs.max(1)\n",
        "                        test_total += targets.size(0)\n",
        "                        test_correct += predicted.eq(targets).sum().item()\n",
        "                        test_loss += loss.item()\n",
        "                    print('Train: loss={:.4f}, acc={:.4f} | Test: loss={:.4f}, acc={:.4f}'.format(train_loss/(batch_idx+1),correct/total,test_loss/len(self.testloader),test_correct/test_total))\n",
        "                self.metrics['train']['acc'].append(correct/total)\n",
        "                self.metrics['train']['loss'].append(train_loss/(batch_idx+1))\n",
        "                self.metrics['test']['acc'].append(test_correct/test_total)\n",
        "                self.metrics['test']['loss'].append(test_loss/len(self.testloader))\n",
        "\n",
        "                if min_valid_loss > test_loss/len(self.testloader):\n",
        "                    min_valid_loss = test_loss/len(self.testloader)\n",
        "                    torch.save(model,f'resent_modified_{self.opt}_{min_valid_loss}.pt')\n",
        "                self.scheduler.step()"
      ]
    },
    {
      "cell_type": "code",
      "source": [
        "trainer = Trainer(epochs=50, opt='sgd', learning_rate=0.01)\n",
        "trainer.load_data()\n",
        "trainer.train()"
      ],
      "metadata": {
        "colab": {
          "base_uri": "https://localhost:8080/"
        },
        "id": "tZmWLt7W4xZ3",
        "outputId": "1fa224ac-0f12-4bb1-8cda-88d6bdcf93b0"
      },
      "execution_count": 63,
      "outputs": [
        {
          "output_type": "stream",
          "name": "stdout",
          "text": [
            "\n",
            "\n",
            "Loading Dataset\n",
            "\n",
            "\n",
            "Files already downloaded and verified\n",
            "Files already downloaded and verified\n",
            "\n",
            "\n",
            "Training\n",
            "\n",
            "\n"
          ]
        },
        {
          "output_type": "stream",
          "name": "stderr",
          "text": [
            "Epoch 1/50: 100%|██████████| 1563/1563 [01:05<00:00, 23.81it/s, Train: loss=1.5080, acc=0.4451]\n"
          ]
        },
        {
          "output_type": "stream",
          "name": "stdout",
          "text": [
            "Train: loss=1.5080, acc=0.4451 | Test: loss=1.1029, acc=0.5991\n"
          ]
        },
        {
          "output_type": "stream",
          "name": "stderr",
          "text": [
            "Epoch 2/50: 100%|██████████| 1563/1563 [01:04<00:00, 24.17it/s, Train: loss=1.0340, acc=0.6321]\n"
          ]
        },
        {
          "output_type": "stream",
          "name": "stdout",
          "text": [
            "Train: loss=1.0340, acc=0.6321 | Test: loss=0.9847, acc=0.6628\n"
          ]
        },
        {
          "output_type": "stream",
          "name": "stderr",
          "text": [
            "Epoch 3/50: 100%|██████████| 1563/1563 [01:04<00:00, 24.16it/s, Train: loss=0.8280, acc=0.7106]\n"
          ]
        },
        {
          "output_type": "stream",
          "name": "stdout",
          "text": [
            "Train: loss=0.8280, acc=0.7106 | Test: loss=0.8869, acc=0.7084\n"
          ]
        },
        {
          "output_type": "stream",
          "name": "stderr",
          "text": [
            "Epoch 4/50: 100%|██████████| 1563/1563 [01:05<00:00, 23.87it/s, Train: loss=0.7072, acc=0.7539]\n"
          ]
        },
        {
          "output_type": "stream",
          "name": "stdout",
          "text": [
            "Train: loss=0.7072, acc=0.7539 | Test: loss=0.6023, acc=0.7955\n"
          ]
        },
        {
          "output_type": "stream",
          "name": "stderr",
          "text": [
            "Epoch 5/50: 100%|██████████| 1563/1563 [01:05<00:00, 23.85it/s, Train: loss=0.6324, acc=0.7803]\n"
          ]
        },
        {
          "output_type": "stream",
          "name": "stdout",
          "text": [
            "Train: loss=0.6324, acc=0.7803 | Test: loss=0.5885, acc=0.7992\n"
          ]
        },
        {
          "output_type": "stream",
          "name": "stderr",
          "text": [
            "Epoch 6/50: 100%|██████████| 1563/1563 [01:05<00:00, 23.84it/s, Train: loss=0.5708, acc=0.8031]\n"
          ]
        },
        {
          "output_type": "stream",
          "name": "stdout",
          "text": [
            "Train: loss=0.5708, acc=0.8031 | Test: loss=0.5459, acc=0.8154\n"
          ]
        },
        {
          "output_type": "stream",
          "name": "stderr",
          "text": [
            "Epoch 7/50: 100%|██████████| 1563/1563 [01:04<00:00, 24.29it/s, Train: loss=0.5120, acc=0.8237]\n"
          ]
        },
        {
          "output_type": "stream",
          "name": "stdout",
          "text": [
            "Train: loss=0.5120, acc=0.8237 | Test: loss=0.5368, acc=0.8169\n"
          ]
        },
        {
          "output_type": "stream",
          "name": "stderr",
          "text": [
            "Epoch 8/50: 100%|██████████| 1563/1563 [01:04<00:00, 24.37it/s, Train: loss=0.4761, acc=0.8357]\n"
          ]
        },
        {
          "output_type": "stream",
          "name": "stdout",
          "text": [
            "Train: loss=0.4761, acc=0.8357 | Test: loss=0.4433, acc=0.8471\n"
          ]
        },
        {
          "output_type": "stream",
          "name": "stderr",
          "text": [
            "Epoch 9/50: 100%|██████████| 1563/1563 [01:03<00:00, 24.60it/s, Train: loss=0.4382, acc=0.8483]\n"
          ]
        },
        {
          "output_type": "stream",
          "name": "stdout",
          "text": [
            "Train: loss=0.4382, acc=0.8483 | Test: loss=0.4914, acc=0.8348\n"
          ]
        },
        {
          "output_type": "stream",
          "name": "stderr",
          "text": [
            "Epoch 10/50: 100%|██████████| 1563/1563 [01:03<00:00, 24.45it/s, Train: loss=0.4032, acc=0.8627]\n"
          ]
        },
        {
          "output_type": "stream",
          "name": "stdout",
          "text": [
            "Train: loss=0.4032, acc=0.8627 | Test: loss=0.4440, acc=0.8513\n"
          ]
        },
        {
          "output_type": "stream",
          "name": "stderr",
          "text": [
            "Epoch 11/50: 100%|██████████| 1563/1563 [01:03<00:00, 24.71it/s, Train: loss=0.3798, acc=0.8688]\n"
          ]
        },
        {
          "output_type": "stream",
          "name": "stdout",
          "text": [
            "Train: loss=0.3798, acc=0.8688 | Test: loss=0.4019, acc=0.8643\n"
          ]
        },
        {
          "output_type": "stream",
          "name": "stderr",
          "text": [
            "Epoch 12/50: 100%|██████████| 1563/1563 [01:04<00:00, 24.22it/s, Train: loss=0.3571, acc=0.8783]\n"
          ]
        },
        {
          "output_type": "stream",
          "name": "stdout",
          "text": [
            "Train: loss=0.3571, acc=0.8783 | Test: loss=0.3875, acc=0.8679\n"
          ]
        },
        {
          "output_type": "stream",
          "name": "stderr",
          "text": [
            "Epoch 13/50: 100%|██████████| 1563/1563 [01:05<00:00, 24.00it/s, Train: loss=0.3405, acc=0.8815]\n"
          ]
        },
        {
          "output_type": "stream",
          "name": "stdout",
          "text": [
            "Train: loss=0.3405, acc=0.8815 | Test: loss=0.3897, acc=0.8679\n"
          ]
        },
        {
          "output_type": "stream",
          "name": "stderr",
          "text": [
            "Epoch 14/50: 100%|██████████| 1563/1563 [01:03<00:00, 24.65it/s, Train: loss=0.3180, acc=0.8900]\n"
          ]
        },
        {
          "output_type": "stream",
          "name": "stdout",
          "text": [
            "Train: loss=0.3180, acc=0.8900 | Test: loss=0.3535, acc=0.8799\n"
          ]
        },
        {
          "output_type": "stream",
          "name": "stderr",
          "text": [
            "Epoch 15/50: 100%|██████████| 1563/1563 [01:02<00:00, 24.82it/s, Train: loss=0.3008, acc=0.8967]\n"
          ]
        },
        {
          "output_type": "stream",
          "name": "stdout",
          "text": [
            "Train: loss=0.3008, acc=0.8967 | Test: loss=0.3396, acc=0.8828\n"
          ]
        },
        {
          "output_type": "stream",
          "name": "stderr",
          "text": [
            "Epoch 16/50: 100%|██████████| 1563/1563 [01:05<00:00, 24.02it/s, Train: loss=0.2926, acc=0.9004]\n"
          ]
        },
        {
          "output_type": "stream",
          "name": "stdout",
          "text": [
            "Train: loss=0.2926, acc=0.9004 | Test: loss=0.3719, acc=0.8789\n"
          ]
        },
        {
          "output_type": "stream",
          "name": "stderr",
          "text": [
            "Epoch 17/50: 100%|██████████| 1563/1563 [01:03<00:00, 24.52it/s, Train: loss=0.2763, acc=0.9029]\n"
          ]
        },
        {
          "output_type": "stream",
          "name": "stdout",
          "text": [
            "Train: loss=0.2763, acc=0.9029 | Test: loss=0.3433, acc=0.8863\n"
          ]
        },
        {
          "output_type": "stream",
          "name": "stderr",
          "text": [
            "Epoch 18/50: 100%|██████████| 1563/1563 [01:04<00:00, 24.39it/s, Train: loss=0.2630, acc=0.9092]\n"
          ]
        },
        {
          "output_type": "stream",
          "name": "stdout",
          "text": [
            "Train: loss=0.2630, acc=0.9092 | Test: loss=0.3495, acc=0.8851\n"
          ]
        },
        {
          "output_type": "stream",
          "name": "stderr",
          "text": [
            "Epoch 19/50: 100%|██████████| 1563/1563 [01:04<00:00, 24.18it/s, Train: loss=0.2534, acc=0.9137]\n"
          ]
        },
        {
          "output_type": "stream",
          "name": "stdout",
          "text": [
            "Train: loss=0.2534, acc=0.9137 | Test: loss=0.3436, acc=0.8868\n"
          ]
        },
        {
          "output_type": "stream",
          "name": "stderr",
          "text": [
            "Epoch 20/50: 100%|██████████| 1563/1563 [01:05<00:00, 23.89it/s, Train: loss=0.2430, acc=0.9157]\n"
          ]
        },
        {
          "output_type": "stream",
          "name": "stdout",
          "text": [
            "Train: loss=0.2430, acc=0.9157 | Test: loss=0.3213, acc=0.8897\n"
          ]
        },
        {
          "output_type": "stream",
          "name": "stderr",
          "text": [
            "Epoch 21/50: 100%|██████████| 1563/1563 [01:04<00:00, 24.26it/s, Train: loss=0.2378, acc=0.9183]\n"
          ]
        },
        {
          "output_type": "stream",
          "name": "stdout",
          "text": [
            "Train: loss=0.2378, acc=0.9183 | Test: loss=0.3317, acc=0.8911\n"
          ]
        },
        {
          "output_type": "stream",
          "name": "stderr",
          "text": [
            "Epoch 22/50: 100%|██████████| 1563/1563 [01:04<00:00, 24.41it/s, Train: loss=0.2308, acc=0.9199]\n"
          ]
        },
        {
          "output_type": "stream",
          "name": "stdout",
          "text": [
            "Train: loss=0.2308, acc=0.9199 | Test: loss=0.3368, acc=0.8934\n"
          ]
        },
        {
          "output_type": "stream",
          "name": "stderr",
          "text": [
            "Epoch 23/50: 100%|██████████| 1563/1563 [01:05<00:00, 24.00it/s, Train: loss=0.2200, acc=0.9239]\n"
          ]
        },
        {
          "output_type": "stream",
          "name": "stdout",
          "text": [
            "Train: loss=0.2200, acc=0.9239 | Test: loss=0.3206, acc=0.8921\n"
          ]
        },
        {
          "output_type": "stream",
          "name": "stderr",
          "text": [
            "Epoch 24/50: 100%|██████████| 1563/1563 [01:03<00:00, 24.47it/s, Train: loss=0.2172, acc=0.9255]\n"
          ]
        },
        {
          "output_type": "stream",
          "name": "stdout",
          "text": [
            "Train: loss=0.2172, acc=0.9255 | Test: loss=0.3066, acc=0.8996\n"
          ]
        },
        {
          "output_type": "stream",
          "name": "stderr",
          "text": [
            "Epoch 25/50: 100%|██████████| 1563/1563 [01:04<00:00, 24.31it/s, Train: loss=0.2083, acc=0.9277]\n"
          ]
        },
        {
          "output_type": "stream",
          "name": "stdout",
          "text": [
            "Train: loss=0.2083, acc=0.9277 | Test: loss=0.2985, acc=0.8972\n"
          ]
        },
        {
          "output_type": "stream",
          "name": "stderr",
          "text": [
            "Epoch 26/50: 100%|██████████| 1563/1563 [01:04<00:00, 24.11it/s, Train: loss=0.2037, acc=0.9300]\n"
          ]
        },
        {
          "output_type": "stream",
          "name": "stdout",
          "text": [
            "Train: loss=0.2037, acc=0.9300 | Test: loss=0.3332, acc=0.8908\n"
          ]
        },
        {
          "output_type": "stream",
          "name": "stderr",
          "text": [
            "Epoch 27/50: 100%|██████████| 1563/1563 [01:04<00:00, 24.35it/s, Train: loss=0.1952, acc=0.9325]\n"
          ]
        },
        {
          "output_type": "stream",
          "name": "stdout",
          "text": [
            "Train: loss=0.1952, acc=0.9325 | Test: loss=0.3030, acc=0.8985\n"
          ]
        },
        {
          "output_type": "stream",
          "name": "stderr",
          "text": [
            "Epoch 28/50: 100%|██████████| 1563/1563 [01:04<00:00, 24.38it/s, Train: loss=0.1920, acc=0.9346]\n"
          ]
        },
        {
          "output_type": "stream",
          "name": "stdout",
          "text": [
            "Train: loss=0.1920, acc=0.9346 | Test: loss=0.2988, acc=0.9022\n"
          ]
        },
        {
          "output_type": "stream",
          "name": "stderr",
          "text": [
            "Epoch 29/50: 100%|██████████| 1563/1563 [01:03<00:00, 24.47it/s, Train: loss=0.1870, acc=0.9354]\n"
          ]
        },
        {
          "output_type": "stream",
          "name": "stdout",
          "text": [
            "Train: loss=0.1870, acc=0.9354 | Test: loss=0.2959, acc=0.9032\n"
          ]
        },
        {
          "output_type": "stream",
          "name": "stderr",
          "text": [
            "Epoch 30/50: 100%|██████████| 1563/1563 [01:03<00:00, 24.51it/s, Train: loss=0.1754, acc=0.9390]\n"
          ]
        },
        {
          "output_type": "stream",
          "name": "stdout",
          "text": [
            "Train: loss=0.1754, acc=0.9390 | Test: loss=0.3239, acc=0.8939\n"
          ]
        },
        {
          "output_type": "stream",
          "name": "stderr",
          "text": [
            "Epoch 31/50: 100%|██████████| 1563/1563 [01:03<00:00, 24.74it/s, Train: loss=0.1727, acc=0.9400]\n"
          ]
        },
        {
          "output_type": "stream",
          "name": "stdout",
          "text": [
            "Train: loss=0.1727, acc=0.9400 | Test: loss=0.3079, acc=0.9001\n"
          ]
        },
        {
          "output_type": "stream",
          "name": "stderr",
          "text": [
            "Epoch 32/50: 100%|██████████| 1563/1563 [01:03<00:00, 24.64it/s, Train: loss=0.1602, acc=0.9455]\n"
          ]
        },
        {
          "output_type": "stream",
          "name": "stdout",
          "text": [
            "Train: loss=0.1602, acc=0.9455 | Test: loss=0.2837, acc=0.9087\n"
          ]
        },
        {
          "output_type": "stream",
          "name": "stderr",
          "text": [
            "Epoch 33/50: 100%|██████████| 1563/1563 [01:03<00:00, 24.67it/s, Train: loss=0.1543, acc=0.9470]\n"
          ]
        },
        {
          "output_type": "stream",
          "name": "stdout",
          "text": [
            "Train: loss=0.1543, acc=0.9470 | Test: loss=0.2754, acc=0.9130\n"
          ]
        },
        {
          "output_type": "stream",
          "name": "stderr",
          "text": [
            "Epoch 34/50: 100%|██████████| 1563/1563 [01:06<00:00, 23.59it/s, Train: loss=0.1463, acc=0.9501]\n"
          ]
        },
        {
          "output_type": "stream",
          "name": "stdout",
          "text": [
            "Train: loss=0.1463, acc=0.9501 | Test: loss=0.2858, acc=0.9080\n"
          ]
        },
        {
          "output_type": "stream",
          "name": "stderr",
          "text": [
            "Epoch 35/50: 100%|██████████| 1563/1563 [01:04<00:00, 24.32it/s, Train: loss=0.1352, acc=0.9543]\n"
          ]
        },
        {
          "output_type": "stream",
          "name": "stdout",
          "text": [
            "Train: loss=0.1352, acc=0.9543 | Test: loss=0.2802, acc=0.9118\n"
          ]
        },
        {
          "output_type": "stream",
          "name": "stderr",
          "text": [
            "Epoch 36/50: 100%|██████████| 1563/1563 [01:03<00:00, 24.51it/s, Train: loss=0.1248, acc=0.9568]\n"
          ]
        },
        {
          "output_type": "stream",
          "name": "stdout",
          "text": [
            "Train: loss=0.1248, acc=0.9568 | Test: loss=0.3060, acc=0.9050\n"
          ]
        },
        {
          "output_type": "stream",
          "name": "stderr",
          "text": [
            "Epoch 37/50: 100%|██████████| 1563/1563 [01:04<00:00, 24.30it/s, Train: loss=0.1137, acc=0.9619]\n"
          ]
        },
        {
          "output_type": "stream",
          "name": "stdout",
          "text": [
            "Train: loss=0.1137, acc=0.9619 | Test: loss=0.2730, acc=0.9135\n"
          ]
        },
        {
          "output_type": "stream",
          "name": "stderr",
          "text": [
            "Epoch 38/50: 100%|██████████| 1563/1563 [01:04<00:00, 24.28it/s, Train: loss=0.1069, acc=0.9638]\n"
          ]
        },
        {
          "output_type": "stream",
          "name": "stdout",
          "text": [
            "Train: loss=0.1069, acc=0.9638 | Test: loss=0.2776, acc=0.9177\n"
          ]
        },
        {
          "output_type": "stream",
          "name": "stderr",
          "text": [
            "Epoch 39/50: 100%|██████████| 1563/1563 [01:03<00:00, 24.47it/s, Train: loss=0.0917, acc=0.9694]\n"
          ]
        },
        {
          "output_type": "stream",
          "name": "stdout",
          "text": [
            "Train: loss=0.0917, acc=0.9694 | Test: loss=0.2471, acc=0.9265\n"
          ]
        },
        {
          "output_type": "stream",
          "name": "stderr",
          "text": [
            "Epoch 40/50: 100%|██████████| 1563/1563 [01:03<00:00, 24.59it/s, Train: loss=0.0791, acc=0.9741]\n"
          ]
        },
        {
          "output_type": "stream",
          "name": "stdout",
          "text": [
            "Train: loss=0.0791, acc=0.9741 | Test: loss=0.2619, acc=0.9222\n"
          ]
        },
        {
          "output_type": "stream",
          "name": "stderr",
          "text": [
            "Epoch 41/50: 100%|██████████| 1563/1563 [01:03<00:00, 24.45it/s, Train: loss=0.0648, acc=0.9781]\n"
          ]
        },
        {
          "output_type": "stream",
          "name": "stdout",
          "text": [
            "Train: loss=0.0648, acc=0.9781 | Test: loss=0.2394, acc=0.9275\n"
          ]
        },
        {
          "output_type": "stream",
          "name": "stderr",
          "text": [
            "Epoch 42/50: 100%|██████████| 1563/1563 [01:03<00:00, 24.45it/s, Train: loss=0.0515, acc=0.9838]\n"
          ]
        },
        {
          "output_type": "stream",
          "name": "stdout",
          "text": [
            "Train: loss=0.0515, acc=0.9838 | Test: loss=0.2465, acc=0.9252\n"
          ]
        },
        {
          "output_type": "stream",
          "name": "stderr",
          "text": [
            "Epoch 43/50: 100%|██████████| 1563/1563 [01:04<00:00, 24.41it/s, Train: loss=0.0423, acc=0.9869]\n"
          ]
        },
        {
          "output_type": "stream",
          "name": "stdout",
          "text": [
            "Train: loss=0.0423, acc=0.9869 | Test: loss=0.2367, acc=0.9330\n"
          ]
        },
        {
          "output_type": "stream",
          "name": "stderr",
          "text": [
            "Epoch 44/50: 100%|██████████| 1563/1563 [01:03<00:00, 24.43it/s, Train: loss=0.0303, acc=0.9915]\n"
          ]
        },
        {
          "output_type": "stream",
          "name": "stdout",
          "text": [
            "Train: loss=0.0303, acc=0.9915 | Test: loss=0.2254, acc=0.9372\n"
          ]
        },
        {
          "output_type": "stream",
          "name": "stderr",
          "text": [
            "Epoch 45/50: 100%|██████████| 1563/1563 [01:03<00:00, 24.56it/s, Train: loss=0.0247, acc=0.9933]\n"
          ]
        },
        {
          "output_type": "stream",
          "name": "stdout",
          "text": [
            "Train: loss=0.0247, acc=0.9933 | Test: loss=0.2246, acc=0.9366\n"
          ]
        },
        {
          "output_type": "stream",
          "name": "stderr",
          "text": [
            "Epoch 46/50: 100%|██████████| 1563/1563 [01:03<00:00, 24.57it/s, Train: loss=0.0189, acc=0.9949]\n"
          ]
        },
        {
          "output_type": "stream",
          "name": "stdout",
          "text": [
            "Train: loss=0.0189, acc=0.9949 | Test: loss=0.2141, acc=0.9413\n"
          ]
        },
        {
          "output_type": "stream",
          "name": "stderr",
          "text": [
            "Epoch 47/50: 100%|██████████| 1563/1563 [01:03<00:00, 24.55it/s, Train: loss=0.0163, acc=0.9961]\n"
          ]
        },
        {
          "output_type": "stream",
          "name": "stdout",
          "text": [
            "Train: loss=0.0163, acc=0.9961 | Test: loss=0.2117, acc=0.9412\n"
          ]
        },
        {
          "output_type": "stream",
          "name": "stderr",
          "text": [
            "Epoch 48/50: 100%|██████████| 1563/1563 [01:07<00:00, 23.23it/s, Train: loss=0.0143, acc=0.9968]\n"
          ]
        },
        {
          "output_type": "stream",
          "name": "stdout",
          "text": [
            "Train: loss=0.0143, acc=0.9968 | Test: loss=0.2143, acc=0.9399\n"
          ]
        },
        {
          "output_type": "stream",
          "name": "stderr",
          "text": [
            "Epoch 49/50: 100%|██████████| 1563/1563 [01:04<00:00, 24.35it/s, Train: loss=0.0132, acc=0.9974]\n"
          ]
        },
        {
          "output_type": "stream",
          "name": "stdout",
          "text": [
            "Train: loss=0.0132, acc=0.9974 | Test: loss=0.2137, acc=0.9393\n"
          ]
        },
        {
          "output_type": "stream",
          "name": "stderr",
          "text": [
            "Epoch 50/50: 100%|██████████| 1563/1563 [01:09<00:00, 22.47it/s, Train: loss=0.0127, acc=0.9975]\n"
          ]
        },
        {
          "output_type": "stream",
          "name": "stdout",
          "text": [
            "Train: loss=0.0127, acc=0.9975 | Test: loss=0.2138, acc=0.9403\n"
          ]
        }
      ]
    },
    {
      "cell_type": "code",
      "source": [
        "import numpy as np\n",
        "import matplotlib.pyplot as plt\n",
        "plt.plot(trainer.metrics['train']['loss'],label='train_loss')\n",
        "plt.plot(trainer.metrics['test']['loss'],label='valid_loss')\n",
        "plt.plot(trainer.metrics['train']['acc'],label='train_acc')\n",
        "plt.plot(trainer.metrics['test']['acc'],label='valid_acc')\n",
        "plt.legend()\n",
        "plt.show()"
      ],
      "metadata": {
        "colab": {
          "base_uri": "https://localhost:8080/",
          "height": 430
        },
        "id": "1eYNwPWOjHeT",
        "outputId": "86fb7091-2177-4d88-9a35-96349d0f44d8"
      },
      "execution_count": 64,
      "outputs": [
        {
          "output_type": "display_data",
          "data": {
            "text/plain": [
              "<Figure size 640x480 with 1 Axes>"
            ],
            "image/png": "[encoded data removed]"
          },
          "metadata": {}
        }
      ]
    },
    {
      "cell_type": "code",
      "source": [],
      "metadata": {
        "id": "MZ1gkfRqC_4M"
      },
      "execution_count": null,
      "outputs": []
    }
  ]
}